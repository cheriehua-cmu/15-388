{
 "cells": [
  {
   "cell_type": "markdown",
   "metadata": {},
   "source": [
    "# Relational Data and Visualization\n",
    "In this problem, you will be analyzing the Twitter data we extracted using [this](https://dev.twitter.com/overview/api) api, in 2016. The data consists of Twitter users (with unique handles) and their attributes (e.g., number of followers), some recent tweets posted by them with attributes (e.g., time stamp, number of retweets), and the follow relationship between the users. These are available in the three (gzipped) CSV files provided to you:\n",
    "- users.csv.gz - users, user attributes\n",
    "- edges.csv.gz - follow edges (directed, an edge from A to B means A follows B or B is a friend of A)\n",
    "- tweets.csv.gz - tweets posted by the users along with its attributes"
   ]
  },
  {
   "cell_type": "code",
   "execution_count": 2,
   "metadata": {},
   "outputs": [],
   "source": [
    "import gzip\n",
    "import sqlite3\n",
    "import pandas as pd\n",
    "import matplotlib.pyplot as plt\n",
    "import mugrade\n",
    "import numpy as np"
   ]
  },
  {
   "cell_type": "markdown",
   "metadata": {},
   "source": [
    "## Q1. Relational Data\n",
    "This question will guide you through loading Twitter data into an in-memory SQLite database and running some basic queries on it."
   ]
  },
  {
   "cell_type": "markdown",
   "metadata": {},
   "source": [
    "### Q1. Task A: Load Twitter data into SQLite database\n",
    "Your first task is to use the (gzipped) csv and sqlite3 python packages to load the three csv files we give you as relations (or tables) into an SQLite in-memory database.\n",
    "\n",
    "Loading the data from (gzipped) csv file into the database involves the following steps:\n",
    "1. Identify the schema of the table (for this problem, you will only need TEXT and INTEGER attribute types)\n",
    "2. Create a table with the identified schema\n",
    "3. Load the contents of csv in memory\n",
    "4. Insert every row of csv file as a record in the table\n",
    "\n",
    "You can refer to [sqlite3 documentation](https://docs.python.org/2/library/sqlite3.html) and the class lecture for steps 2 and 4. For step 3 you can uses pandass. Be sure to name your tables `users`, `edges`, and `tweets`. \n",
    "\n",
    "Make sure to commit (the equivalent of Ctrl+S for databases) any changes you make to the database. [This](https://www.techopedia.com/definition/16/commit) page should give you an idea about why commit is essential.\n",
    "\n",
    "Don't decompress the `.gz` files - we do that while reading them. This is common practice when dealing with large amounts of text data."
   ]
  },
  {
   "cell_type": "code",
   "execution_count": 3,
   "metadata": {},
   "outputs": [
    {
     "name": "stdout",
     "output_type": "stream",
     "text": [
      "### Running 4 local tests\n",
      "# Running test 1/4 ... <sqlite3.Connection object at 0x11fb3ce40>\n",
      "PASSED\n",
      "# Running test 2/4 ... <sqlite3.Connection object at 0x11fb3ce40>\n",
      "PASSED\n",
      "# Running test 3/4 ... <sqlite3.Connection object at 0x11fb3ce40>\n",
      "PASSED\n",
      "# Running test 4/4 ... <sqlite3.Connection object at 0x11fb3ce40>\n",
      "PASSED\n"
     ]
    }
   ],
   "source": [
    "@mugrade.test_local\n",
    "#@mugrade.submit(\"QlIuTCr8C4BPu7aXrk73\")\n",
    "def load_twitter_data_sqlite3(conn):\n",
    "    \"\"\" Load twitter data in the three files as tables into an in-memory SQLite database.\n",
    "    The tables are stored in the following three csv files:\n",
    "      - users.csv.gz\n",
    "      - edges.csv.gz\n",
    "      - tweets.csv.gz\n",
    "    You should inspect the files and create a database schema with the same columns as in the csv file,\n",
    "    and either \"TEXT\" or \"INTEGER\" types.\n",
    "    Input:\n",
    "        conn (sqlite3.Connection) : Connection object corresponding to the database; used to perform SQL commands.\n",
    "    Output:\n",
    "        conn : Return connection after performing commands\n",
    "    \"\"\"\n",
    "    print(conn)\n",
    "    c = conn.cursor()\n",
    "    c.execute('''\n",
    "    CREATE TABLE users(\n",
    "        name TEXT,\n",
    "        screen_name TEXT,\n",
    "        location TEXT,\n",
    "        created_at TEXT,\n",
    "        friends_count INTEGER,\n",
    "        followers_count INTEGER,\n",
    "        statuses_count INTEGER,\n",
    "        favourites_count INTEGER);''')\n",
    "    users_df = pd.read_csv('users.csv')\n",
    "    for i in range(len(users_df)):\n",
    "        row = users_df.iloc[i]\n",
    "        name = row['name']\n",
    "        screen_name = row['screen_name']\n",
    "        location = row['location']\n",
    "        created_at = row['created_at']\n",
    "        friends_count = row['friends_count']\n",
    "        followers_count = row['followers_count']\n",
    "        statuses_count = row['statuses_count']\n",
    "        favourites_count = row['favourites_count']\n",
    "        users_values = (name, screen_name, location, created_at, int(friends_count), int(followers_count), int(statuses_count), int(favourites_count))\n",
    "        c.execute(\"INSERT INTO users VALUES (?, ?, ?, ?, ?, ?, ?, ?)\", users_values)\n",
    "    conn.commit()\n",
    "    \n",
    "    c.execute('''\n",
    "    CREATE TABLE edges( \n",
    "        screen_name TEXT,\n",
    "        friend TEXT);''')\n",
    "    edges_df = pd.read_csv('edges.csv')\n",
    "    for i in range(len(edges_df)):\n",
    "        row = edges_df.iloc[i]\n",
    "        screen_name = row['screen_name']\n",
    "        friend = row['friend']\n",
    "        edges_values = (screen_name, friend)\n",
    "        c.execute(\"INSERT INTO edges VALUES (?,?)\", edges_values)\n",
    "    conn.commit()\n",
    "    \n",
    "    c.execute('''\n",
    "    CREATE TABLE tweets( \n",
    "        screen_name TEXT,\n",
    "        created_at TEXT,\n",
    "        retweet_count INTEGER,\n",
    "        favorite_count INTEGER,\n",
    "        text TEXT);''')\n",
    "    tweets_df = pd.read_csv('tweets.csv')\n",
    "    for i in range(len(tweets_df)):\n",
    "        row = tweets_df.iloc[i]\n",
    "        screen_name = row['screen_name']\n",
    "        created_at = row['created_at']\n",
    "        retweet_count = row['retweet_count']\n",
    "        favorite_count = row['favorite_count']\n",
    "        text = row['text']\n",
    "        tweets_values = (screen_name, created_at, int(retweet_count), int(favorite_count), text)\n",
    "        c.execute(\"INSERT INTO tweets VALUES (?,?,?,?,?)\", tweets_values)\n",
    "    conn.commit()\n",
    "    return conn"
   ]
  },
  {
   "cell_type": "markdown",
   "metadata": {},
   "source": [
    "### Q1. Task B: Trending tweets in a topic\n",
    "Twitter is regarded as an invaluable source of valuable information. Hence, one of the favorite tasks of data miners is the analyse the trending tweets in a given topic.\n",
    "\n",
    "This task requires you to retrieve the top N most trending tweets (in descending order of trending_score) about a given topic (which is a list of keywords). The following information may be useful:\n",
    "\n",
    "- A tweet is said to be about a given topic if it contains any of the given topical phrases/keywords.\n",
    "- We will use the following simple trending_score: retweet_count + favorite_count. Tweets with higher trending_score must be ranked before the ones with lower trending_score.\n",
    "- Your result must contain unique tweets. If a tweet text occurs multiple times, display it only once with its highest trending_score.\n",
    "- Break ties by sorting the tweets in alphabetical order.\n",
    "\n",
    "The output schema should be as follows:\n",
    "\n",
    "|tweet (TEXT)| trending_score (INTEGER) |\n",
    "| :--- |:--- |\n",
    "| | |\n",
    "\n"
   ]
  },
  {
   "cell_type": "code",
   "execution_count": 90,
   "metadata": {},
   "outputs": [
    {
     "name": "stdout",
     "output_type": "stream",
     "text": [
      "### Submitting 3 grader tests\n",
      "# Running test 1/3 ... PASSED\n",
      "# Running test 2/3 ... PASSED\n",
      "# Running test 3/3 ... PASSED\n"
     ]
    }
   ],
   "source": [
    "@mugrade.submit(\"QlIuTCr8C4BPu7aXrk73\")\n",
    "def trending_tweets(cursor, topical_phrases, N):\n",
    "    \"\"\" Retrieves the top N trending tweets containing one or more of the given topical phrases.\n",
    "    Input:\n",
    "        cursor (sqlite3.Cursor): Cursor object to query the database.\n",
    "        topical_phrases (list of strings): A list of keywords identifying a topic.\n",
    "        N: Number of trending tweets to retrieve\n",
    "    Output:\n",
    "        results (sqlite3.Cursor): Cursor object which can be used to iterate over the retrieved records/tuples.\n",
    "    \"\"\"\n",
    "    cursor.execute(\"ALTER TABLE tweets ADD trending_score AS (retweet_count + favorite_count);\")\n",
    "    s = \"WHERE \"\n",
    "    for i in topical_phrases:\n",
    "        s = s + \"text LIKE \" + \"'%\" + i + \"%'\"\n",
    "        if i != topical_phrases[-1]:\n",
    "            s = s + \" OR \"\n",
    "    cursor.execute(\"CREATE TABLE sob AS SELECT * FROM tweets \" + s + \";\")\n",
    "    cursor.execute('''\n",
    "    SELECT text, MAX(trending_score)\n",
    "    FROM sob\n",
    "    GROUP BY text\n",
    "    ORDER BY trending_score DESC\n",
    "    LIMIT (?);''', (str(N)))\n",
    "    results = cursor.fetchall()\n",
    "    return results"
   ]
  },
  {
   "cell_type": "code",
   "execution_count": null,
   "metadata": {},
   "outputs": [],
   "source": [
    "#     cursor.execute(\"SELECT * FROM tweets\") \n",
    "#     result = cursor.fetchall() \n",
    "#     for row in result: \n",
    "#         print(row, '\\n') "
   ]
  },
  {
   "cell_type": "markdown",
   "metadata": {},
   "source": [
    "### Q1. Task C: Tweet recommendation\n",
    "How does Twitter go about populating the feed for a user? While Twitter may use a comple models to do this, in this task, we will use a Simple Tweet Recommender (STR), which recommends a user's tweets to all users who follow him/her (without checking for possible duplicates; i.e., STR may recommend the same tweet twice if two of a user's friends have posted it).\n",
    "\n",
    "In this task, you will write a query to determine the number of tweets recommended to each user. Use only the snapshot of edges and tweets we have provided to you to do the recommendation. Report the results on the users present in the users table. (Hint: The number of records in your output should match that in the \"users\" table.) The order of results does not matter.\n",
    "\n",
    "The output schema should be:\n",
    "\n",
    "|screen_name (TEXT)| num_tweets (INTEGER) |\n",
    "| :--- |:--- |\n",
    "| | | |\n"
   ]
  },
  {
   "cell_type": "code",
   "execution_count": 11,
   "metadata": {},
   "outputs": [
    {
     "name": "stdout",
     "output_type": "stream",
     "text": [
      "### Submitting 3 grader tests\n",
      "# Running test 1/3 ... <sqlite3.Connection object at 0x11fb3ce40>\n",
      "PASSED\n",
      "# Running test 2/3 ... <sqlite3.Connection object at 0x11fb3ce40>\n",
      "PASSED\n",
      "# Running test 3/3 ... <sqlite3.Connection object at 0x11fb3ce40>\n",
      "PASSED\n"
     ]
    }
   ],
   "source": [
    "#@mugrade.test_local\n",
    "@mugrade.submit(\"QlIuTCr8C4BPu7aXrk73\")\n",
    "def num_tweets_in_feed(cursor):\n",
    "    \"\"\" Retrieves the number of tweets STR recommends to each Twitter user.\n",
    "    Input:\n",
    "        cursor (sqlite3.Cursor): Cursor object to query the database.\n",
    "    Output:\n",
    "        results (sqlite3.Cursor): Cursor object which can be used to iterate over the retrieved records/tuples.\n",
    "    \"\"\"\n",
    "    query = '''\n",
    "    SELECT screen_name, COUNT(*) FROM\n",
    "    (SELECT u.screen_name, e.screen_name, e.friend, t.screen_name\n",
    "    FROM users u\n",
    "    LEFT JOIN edges e\n",
    "    ON u.screen_name = e.screen_name\n",
    "    LEFT JOIN tweets t\n",
    "    ON t.screen_name = e.friend\n",
    "    WHERE t.screen_name IS NOT NULL)\n",
    "    GROUP BY screen_name\n",
    "    '''\n",
    "    return cursor.execute(query)"
   ]
  },
  {
   "cell_type": "markdown",
   "metadata": {},
   "source": [
    "## Q2. Visualization\n",
    "In this question, you will load all data into pandas dataframes and analyse (and visualize!) some interesting trends using [matplotlib](http://matplotlib.org) python package."
   ]
  },
  {
   "cell_type": "markdown",
   "metadata": {},
   "source": [
    "### Q2. Task A: Load Twitter data using pandas \n",
    "Fill in the following method stub and return the data frames for users, edges and tweets.\n",
    "\n",
    "Pandas will treat missing values as NaNs by default. However, for this assignment, you should treat missing values (i.e., empty strings in the csv files) as empty strings."
   ]
  },
  {
   "cell_type": "code",
   "execution_count": 42,
   "metadata": {},
   "outputs": [
    {
     "name": "stdout",
     "output_type": "stream",
     "text": [
      "### Submitting 3 grader tests\n",
      "# Running test 1/3 ... PASSED\n",
      "# Running test 2/3 ... PASSED\n",
      "# Running test 3/3 ... PASSED\n"
     ]
    }
   ],
   "source": [
    "#@mugrade.test_local\n",
    "@mugrade.submit(\"QlIuTCr8C4BPu7aXrk73\")\n",
    "def load_twitter_data_pandas():\n",
    "    \"\"\" Load twitter data in the three files as pandas data framess.\n",
    "    The tables are stored in the following three csv files:\n",
    "      - users.csv.gz\n",
    "      - edges.csv.gz\n",
    "      - tweets.csv.gz\n",
    "    Output:\n",
    "        users_df, edges_df, tweets_df, \n",
    "        conn : Return connection after performing commands\n",
    "    \"\"\"\n",
    "    users_df = pd.read_csv('users.csv', na_values = \"\")\n",
    "    edges_df = pd.read_csv('edges.csv', na_values = \"\")\n",
    "    tweets_df = pd.read_csv('tweets.csv', na_values = \"\")\n",
    "    return users_df, edges_df, tweets_df"
   ]
  },
  {
   "cell_type": "markdown",
   "metadata": {},
   "source": [
    "### Q2. Task B: Correlation\n",
    "Statisticians and data analysts usually like to study about correlation between different observed variables. This helps uncover interesting patterns in the data such as causal relationships (e.g., snow on the road leads to increase in number of accidents). Correlation studies are important for multiple reasons:\n",
    "- While [correlation does not imply causation](https://en.wikipedia.org/wiki/Correlation_does_not_imply_causation), a lack of correlation implies a lack of causation. This can be used to rule out many causal relationships.\n",
    "- Correlation helps with prediction. The more closely related two variables are, the easier it is to predict one from the other.\n",
    "\n",
    "In this task, we ask you to plot the friends_count (on y-axis) vs the followers_count (on x-axis) using the matplotlib package. [Here](http://matplotlib.org/examples/shapes_and_collections/scatter_demo.html) is an example to get started with scatter plots."
   ]
  },
  {
   "cell_type": "code",
   "execution_count": 46,
   "metadata": {},
   "outputs": [
    {
     "name": "stdout",
     "output_type": "stream",
     "text": [
      "### Submitting 3 grader tests\n",
      "# Running test 1/3 ... PASSED\n",
      "# Running test 2/3 ... PASSED\n",
      "# Running test 3/3 ... PASSED\n"
     ]
    },
    {
     "data": {
      "image/png": "[encoded data removed]",
      "text/plain": [
       "<Figure size 432x288 with 1 Axes>"
      ]
     },
     "metadata": {
      "needs_background": "light"
     },
     "output_type": "display_data"
    }
   ],
   "source": [
    "#@mugrade.test_local\n",
    "@mugrade.submit(\"QlIuTCr8C4BPu7aXrk73\")\n",
    "def plot_friends_vs_followers(users_df):\n",
    "    \"\"\" Plots the friends_count (on y-axis) against the followers_count (on x-axis).\n",
    "    Input:\n",
    "        users_df (pd.DataFrame) : Dataframe containing Twitter user attributes,\n",
    "                                    as returned by load_twitter_data_pandas()\n",
    "    Output:\n",
    "        (matplotlib.collections.PathCollection) : The object returned by the scatter plot function\n",
    "    \"\"\"\n",
    "    return plt.scatter(users_df.loc[:, 'followers_count'].values, users_df.loc[:, 'friends_count'].values)\n",
    "\n",
    "\n",
    "plot_friends_vs_followers(load_twitter_data_pandas()[0]); # this line will display the plot"
   ]
  },
  {
   "cell_type": "markdown",
   "metadata": {},
   "source": [
    "Do you see a correlation between these two variables from your scatter plot? Let's measure this quantitatively using the [Pearson's correlation coefficient](https://en.wikipedia.org/wiki/Pearson_product-moment_correlation_coefficient). \n",
    "\n",
    "For a set of observations $(X,Y) = [(x_1,y_1), (x_2,y_2), ... , (x_n,y_n)]$, the Pearson's correlation coefficient is a measure of the linear dependence between two variables $X$ and $Y$, giving a value between +1 and −1 inclusive, where 1 is total positive correlation, 0 is no correlation, and −1 is total negative correlation.\n",
    "\n",
    "$r=r_{xy}={\\frac {n\\sum x_{i}y_{i}-\\sum x_{i}\\sum y_{i}}{{\\sqrt {n\\sum x_{i}^{2}-(\\sum x_{i})^{2}}}~{\\sqrt {n\\sum y_{i}^{2}-(\\sum y_{i})^{2}}}}}$\n",
    "\n",
    "Now, fill in the following function to compute the Pearson's correlation coefficient between friends_count and followers_count."
   ]
  },
  {
   "cell_type": "code",
   "execution_count": 50,
   "metadata": {},
   "outputs": [
    {
     "name": "stdout",
     "output_type": "stream",
     "text": [
      "### Submitting 2 grader tests\n",
      "# Running test 1/2 ... 0.05988105913061305\n",
      "PASSED\n",
      "# Running test 2/2 ... 0.09820851397820897\n",
      "PASSED\n"
     ]
    }
   ],
   "source": [
    "#@mugrade.test_local\n",
    "@mugrade.submit(\"QlIuTCr8C4BPu7aXrk73\")\n",
    "def correlation_coefficient(users_df):\n",
    "    \"\"\" Computes correlation between user followers and friends\n",
    "    Input:\n",
    "        users_df (pd.DataFrame) : Dataframe containing Twitter user attributes,\n",
    "                                    as returned by load_twitter_data_pandas()\n",
    "    Output:\n",
    "        (double) : correlation coefficient between friends_count and followers_count\n",
    "    \"\"\"\n",
    "    corr = np.corrcoef(users_df.loc[:, 'followers_count'].values, users_df.loc[:, 'friends_count'].values)[0, 1]\n",
    "    print(corr)\n",
    "    return corr"
   ]
  },
  {
   "cell_type": "markdown",
   "metadata": {},
   "source": [
    "### Q2. Task C: Degree distribution\n",
    "If you are not familiar with graph theory and/or graph mining, skip the first paragraph.\n",
    "\n",
    "As you're familiar with graphs, you might know that the degree of a node is the number of connections it has to other nodes. A common statistic to look out for in the case of real world graphs is the degree distribution. Literature says degrees of nodes in real world graphs follow a [power law distribution](https://en.wikipedia.org/wiki/Power_law). The implication is that a scatter plot of num_users versus k (as we will define below) yields an almost straight line. In this task, we shall verify whether the given crawl of Twitter network satisfies this property.\n",
    "\n",
    "Let us call the number of friends a Twitter user has as his/her degree. The degree distribution is a histogram of the number of friends. Your task is to visualize this histogram. Use the default number of bins.\n",
    "\n",
    "Do you notice any surprising/unexpected pattern? What can you say about the way in which the Twitter data was collected?"
   ]
  },
  {
   "cell_type": "code",
   "execution_count": 57,
   "metadata": {},
   "outputs": [
    {
     "name": "stdout",
     "output_type": "stream",
     "text": [
      "### Submitting 1 grader tests\n",
      "# Running test 1/1 ... [100 100 100 100 100 100 100 100 100 100 100  57 100 100 100  47 100  70\n",
      "   2 100  39 100 100 100 100 100 100 100 100 100 100 100 100 100 100 100\n",
      " 100 100 100 100 100 100  89 100 100 100 100 100 100 100 100 100 100 100\n",
      " 100 100 100  89 100 100 100 100 100 100 100 100 100  98 100 100  46 100\n",
      " 100 100 100  57 100  16 100 100 100 100  29 100 100 100 100  70 100 100\n",
      " 100 100 100 100  39  18 100 100 100   9  17  79 100 100 100  35  13 100\n",
      "  62 100 100 100 100 100 100 100  33  57 100 100 100  15 100 100 100 100\n",
      "  55 100 100 100 100 100  35 100 100  25 100 100 100 100 100 100  94  86\n",
      " 100 100 100 100  90 100 100 100 100 100 100 100 100 100 100 100 100 100\n",
      " 100 100  47 100 100 100 100  42 100 100  19 100 100 100 100 100 100]\n",
      "PASSED\n",
      "[100 100 100 100 100 100 100 100 100 100 100  57 100 100 100  47 100  70\n",
      "   2 100  39 100 100 100 100 100 100 100 100 100 100 100 100 100 100 100\n",
      " 100 100 100 100 100 100  89 100 100 100 100 100 100 100 100 100 100 100\n",
      " 100 100 100  89 100 100 100 100 100 100 100 100 100  98 100 100  46 100\n",
      " 100 100 100  57 100  16 100 100 100 100  29 100 100 100 100  70 100 100\n",
      " 100 100 100 100  39  18 100 100 100   9  17  79 100 100 100  35  13 100\n",
      "  62 100 100 100 100 100 100 100  33  57 100 100 100  15 100 100 100 100\n",
      "  55 100 100 100 100 100  35 100 100  25 100 100 100 100 100 100  94  86\n",
      " 100 100 100 100  90 100 100 100 100 100 100 100 100 100 100 100 100 100\n",
      " 100 100  47 100 100 100 100  42 100 100  19 100 100 100 100 100 100]\n"
     ]
    },
    {
     "data": {
      "text/plain": [
       "(array([  2.,   6.,   2.,   5.,   4.,   4.,   3.,   1.,   4., 148.]),\n",
       " array([  2. ,  11.8,  21.6,  31.4,  41.2,  51. ,  60.8,  70.6,  80.4,\n",
       "         90.2, 100. ]),\n",
       " <BarContainer object of 10 artists>)"
      ]
     },
     "execution_count": 57,
     "metadata": {},
     "output_type": "execute_result"
    },
    {
     "data": {
      "image/png": "[encoded data removed]",
      "text/plain": [
       "<Figure size 432x288 with 1 Axes>"
      ]
     },
     "metadata": {
      "needs_background": "light"
     },
     "output_type": "display_data"
    }
   ],
   "source": [
    "#@mugrade.test_local\n",
    "@mugrade.submit(\"QlIuTCr8C4BPu7aXrk73\")\n",
    "def degree_distribution(edges_df):\n",
    "    \"\"\" Plots the distribution of friends for users.\n",
    "    Input:\n",
    "        edges_df (pd.DataFrame) : Dataframe containing Twitter edges,\n",
    "                        as returned by load_twitter_data_pandas()\n",
    "    Output:\n",
    "        (array, array, list of Patch objects) : Tuple of the values of the histogram bins, \n",
    "                        the edges of the bins and the silent list of individual patches used to create the histogram.\n",
    "                        Note that this format is exactly what is output by the `plt.hist` function.\n",
    "    \"\"\"\n",
    "    u = edges_df.loc[:, 'screen_name'].values\n",
    "    unq, x = np.unique(u, return_counts = True)\n",
    "    return plt.hist(x)\n",
    "\n",
    "degree_distribution(load_twitter_data_pandas()[1])"
   ]
  }
 ],
 "metadata": {
  "anaconda-cloud": {},
  "kernelspec": {
   "display_name": "Python 3",
   "language": "python",
   "name": "python3"
  },
  "language_info": {
   "codemirror_mode": {
    "name": "ipython",
    "version": 3
   },
   "file_extension": ".py",
   "mimetype": "text/x-python",
   "name": "python",
   "nbconvert_exporter": "python",
   "pygments_lexer": "ipython3",
   "version": "3.8.5"
  }
 },
 "nbformat": 4,
 "nbformat_minor": 1
}
