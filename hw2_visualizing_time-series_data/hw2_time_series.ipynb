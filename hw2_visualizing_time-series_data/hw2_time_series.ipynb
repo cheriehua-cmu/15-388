{
 "cells": [
  {
   "cell_type": "markdown",
   "metadata": {},
   "source": [
    "# Time Series\n",
    "\n",
    "In this problem you will be analysing and visualizing time-series data. Specifically, you will be working with Pittsburgh Port Authority's TrueTime data which is [publicly available](http://truetime.portauthority.org/bustime/login.jsp). If you're interested, you can request an API key and collect the data yourself, but we've already collected a subset of the available data for the purposes of this assignment.\n",
    "\n",
    "We will be using [`pandas`](https://pandas.pydata.org/pandas-docs/stable/user_guide/) to work with this data."
   ]
  },
  {
   "cell_type": "code",
   "execution_count": 3,
   "metadata": {},
   "outputs": [],
   "source": [
    "import matplotlib.pyplot as plt\n",
    "import pandas as pd\n",
    "import numpy as np\n",
    "import sqlite3\n",
    "import gmaps\n",
    "import mugrade"
   ]
  },
  {
   "cell_type": "markdown",
   "metadata": {},
   "source": [
    "## TrueTime dataset\n",
    "\n",
    "The bus data has been collected by querying the TrueTime API every minute. Each time, we make a request for vehicle information for every bus running on the 61A, 61B, 61C, and 61D bus routes. The results are given as XML, which are consequently parsed and stored within the `vehicles` table of a [sqlite](https://www.sqlite.org/index.html) database. (Ignore other tables in the database.)\n",
    "\n",
    "| column | data | \n",
    "| --- | --- |\n",
    "| vid      | vehicle identifier |\n",
    "| tmstmp | date and time of the last positional update of the vehicle |\n",
    "| lat | latitude position of the vehicle in decimal degrees |\n",
    "| lon | longitude position of the vehicle in decimal degrees |\n",
    "| hdg | heading of vehicle as a 360 degree value (0 is north, 90 is east, 180 is south, and 270 is west |\n",
    "| pid | pattern ID of trip currently being executed | \n",
    "| rt | route that is currently being execute | \n",
    "| des | destination of the current trip | \n",
    "| pdist | linear distance (feet) vehicle has traveled into the current pattern |\n",
    "| spd | speed as reported from the vehicle in miles per hour | \n",
    "| tablockid | TA's version of the scheduled block identifier for work currently behind performed |\n",
    "| tatripid | TA's version of the scheduled trip identifier for the vehicle's current trip |\n",
    "\n",
    "First you will need to read in the data. We have dumped the raw form of the data into a sqlite database, which you can read directly into a pandas dataframe using `pd.read_sql_query`. You need to read the data in and do this:\n",
    "\n",
    "1. Sometimes the TrueTime API returns a bogus result that has empty strings for the `vid`. You should remove all rows that have blank `vid`s. \n",
    "2. SQLite does not enforce types on the data, so pandas reads most columns as objects even if the underlying type is an integer or float. To run numerical functions on them you need to convert numeric columns to the correct type.\n",
    "3. You need to set the timestamps as `pd.DatetimeIndex` and set them to be the Dataframe index. (You may need to wrap the type conversion like this `... = pd.DatetimeIndex(...)` to make it work.) Pandas will prepare the data for efficient time-based querying accordingly. You also need to retain the original additional `tmstmp` column.\n",
    "\n",
    "Note that strings show up as objects. This is because the underlying implementation of Pandas uses numpy arrays, which need fixed-size entries, so they store pointers to strings instead of the strings themselves.  The types of your dataframes columns should match the datatypes in the first test case, namely\n",
    "\n",
    "```python\n",
    "{'vid': 'int64',\n",
    " 'tmstmp': 'datetime64[ns]',\n",
    " 'lat': 'float64',\n",
    " 'lon': 'float64',\n",
    " 'hdg': 'int64',\n",
    " 'pid': 'int64',\n",
    " 'rt': 'object',\n",
    " 'des': 'object',\n",
    " 'pdist': 'int64',\n",
    " 'spd': 'int64',\n",
    " 'tablockid': 'object',\n",
    " 'tatripid': 'int64'}\n",
    "```"
   ]
  },
  {
   "cell_type": "code",
   "execution_count": 4,
   "metadata": {
    "scrolled": false
   },
   "outputs": [
    {
     "name": "stdout",
     "output_type": "stream",
     "text": [
      "### Submitting 2 grader tests\n",
      "# Running test 1/2 ... PASSED\n",
      "# Running test 2/2 ... PASSED\n"
     ]
    }
   ],
   "source": [
    "#@mugrade.test_local\n",
    "@mugrade.submit(\"QlIuTCr8C4BPu7aXrk73\")\n",
    "def load_data():\n",
    "    \"\"\" Read the sqlite database, from the file \"bus_aug23.db\" into a pandas dataframe\n",
    "    Returns:\n",
    "        pd.DataFrame : a dataframe with the vehicle data \n",
    "    \"\"\"\n",
    "    df = pd.read_sql_query(\"SELECT * FROM vehicles\", sqlite3.connect(\"bus_aug23.db\"))\n",
    "    df['vid'].replace('', np.nan, inplace = True)\n",
    "    df.dropna(subset=['vid'], inplace=True)\n",
    "    df['vid'] = pd.to_numeric(df['vid'])\n",
    "    df['tmstmp'] = pd.DatetimeIndex(df['tmstmp'])\n",
    "    df = df.set_index(pd.DatetimeIndex(df['tmstmp']))\n",
    "    df['lat'] = df['lat'].astype(np.float64)\n",
    "    df['lon'] = df['lon'].astype(np.float64)\n",
    "    df['hdg'] = df['hdg'].astype(np.int64)\n",
    "    df['pid'] = df['pid'].astype(np.int64)\n",
    "    df['pdist'] = df['pdist'].astype(np.int64)\n",
    "    df['spd'] = df['spd'].astype(np.int64)\n",
    "    df['tatripid'] = df['tatripid'].astype(np.int64)\n",
    "    return df"
   ]
  },
  {
   "cell_type": "markdown",
   "metadata": {},
   "source": [
    "## Splitting Data by Vehicle\n",
    "\n",
    "Now that the data is loaded, we will split the `vehicle` dataframe into dataframes for each individual vehicle. (Note that the same vehicle will run different routes at different times; this is expected behavior.)\n",
    "\n",
    "You use the [`groupby`](https://pandas.pydata.org/pandas-docs/stable/reference/api/pandas.DataFrame.groupby.html) feature of pandas to (as the name suggests) group the dataframe by the `vid`  field. Convert the result into a list-of-dataframes.\n",
    "\n",
    "Note that `groupby` doesn't create a copy of the underlying data. Instead, it creates a new dataframe that points to some rows within the original data; this is vastly more memory-efficient especially when working with image or video data. We also include a test to make sure you didn't accidentally copy it.\n",
    "\n",
    "We strongly suggest you read the [`split-apply-combine` pattern](https://pandas.pydata.org/pandas-docs/stable/user_guide/groupby.html) guide; that is a powerful pattern that we will be using repeatedly in this assignment."
   ]
  },
  {
   "cell_type": "code",
   "execution_count": 19,
   "metadata": {
    "scrolled": true
   },
   "outputs": [
    {
     "name": "stdout",
     "output_type": "stream",
     "text": [
      "### Submitting 2 grader tests\n",
      "# Running test 1/2 ... PASSED\n",
      "# Running test 2/2 ... PASSED\n"
     ]
    }
   ],
   "source": [
    "#@mugrade.test_local\n",
    "@mugrade.submit(\"QlIuTCr8C4BPu7aXrk73\")\n",
    "def split_vehicles(df):\n",
    "    \"\"\" Splits the dataframe into a list of dataframes for each individual vehicle. \n",
    "    Args: \n",
    "        df (pd.DataFrame): A dataframe containing all data\n",
    "        \n",
    "    Returns: \n",
    "        (list): A list of dataframes, where each dataframe contains vehicle data for a single vehicle\n",
    "    \"\"\"\n",
    "    grouped = df.groupby('vid')\n",
    "    dataframes = [group for _, group in grouped]\n",
    "    return dataframes\n"
   ]
  },
  {
   "cell_type": "markdown",
   "metadata": {},
   "source": [
    "## Visualizing Speeds over Time\n",
    "\n",
    "Great! Now that we are all warmed up, lets try to extract some more information from this dataset. We want to see if traffic is slower at some times during the day than others.\n",
    "\n",
    "We can't directly measure the speed of traffic using the dataset, but we can infer this from the average speed of each bus (which we assume depends on the speed of traffic). We begin by writing a function that:\n",
    "\n",
    "1. selects all entries lying between `time_start` and `time_end` (inclusive) on any day within that,\n",
    "2. selects only data that falls on weekdays,\n",
    "3. groups entries by `vid`, and\n",
    "4. calculates the mean speed for each group\n",
    "\n",
    "The output should be a Series with the index `vid` (vehicle id) and the value `spd`, which is the mean recorded speed for each `vid` in the time range on any weekday in the dataset.\n",
    "\n",
    "**Hints**:\n",
    "\n",
    "1. Remember when we set the index to be a DatetimeIndex? This allows you to use [special lookup functions](https://pandas.pydata.org/pandas-docs/version/0.23.4/api.html#id7).\n",
    "2. We only want the data where `dayofweek < 5`.\n"
   ]
  },
  {
   "cell_type": "code",
   "execution_count": 5,
   "metadata": {
    "scrolled": true
   },
   "outputs": [
    {
     "name": "stdout",
     "output_type": "stream",
     "text": [
      "### Submitting 3 grader tests\n",
      "# Running test 1/3 ... PASSED\n",
      "# Running test 2/3 ... PASSED\n",
      "# Running test 3/3 ... PASSED\n"
     ]
    }
   ],
   "source": [
    "#@mugrade.test_local\n",
    "@mugrade.submit(\"QlIuTCr8C4BPu7aXrk73\")\n",
    "def get_speeds(df, time_start, time_end):\n",
    "    \"\"\" Splits the dataframe of vehicle data into a list of dataframes for each individual trip. \n",
    "    \n",
    "    Args: \n",
    "        df (pd.DataFrame): A dataframe containing vehicle data\n",
    "        \n",
    "    Returns: \n",
    "        (list): A list of dataframes, where each dataframe contains vehicle data for a single trip\n",
    "    \"\"\"\n",
    "    trip = df.between_time(time_start, time_end)\n",
    "    days = trip[(trip['tmstmp'].dt.weekday >= 0) & (trip['tmstmp'].dt.weekday < 5)]\n",
    "    grouped = days.groupby('vid')\n",
    "    dataframes = grouped['spd'].agg(np.mean)\n",
    "    return dataframes"
   ]
  },
  {
   "cell_type": "markdown",
   "metadata": {},
   "source": [
    "Now that we have that function, lets visualize it as a heatmap! The x-axis represents time-of-day, from 00:00am to 11:59pm, with a steps defined by `period`. The y-axis represents average speed in bins defined by `speed_bins`. The value of each cell corresponds to the number of buses reaching that speed in the time window.  You can call the function as follows:\n",
    "\n",
    "```\n",
    "plot = visualize_speeds(df, pd.period_range(start='12:00am', end='11:59pm', freq=\"15T\"), \n",
    "                        list(range(0, 50, 2)))\n",
    "```\n",
    "which will plot an image like the follwing:\n",
    "![](plot.png)\n",
    "Note that you don't need to actually set all the correct plot labels, etc, in order to pass the tests for this question: you simply need to call `plt.imshow()` on an array that represents this same data (and the tests, e.g. all just test the values/size in the internal array)."
   ]
  },
  {
   "cell_type": "code",
   "execution_count": 43,
   "metadata": {},
   "outputs": [
    {
     "name": "stdout",
     "output_type": "stream",
     "text": [
      "### Submitting 2 grader tests\n",
      "# Running test 1/2 ... PASSED\n",
      "# Running test 2/2 ... PASSED\n"
     ]
    },
    {
     "data": {
      "image/png": "[encoded data removed]",
      "text/plain": [
       "<Figure size 432x288 with 1 Axes>"
      ]
     },
     "metadata": {
      "needs_background": "light"
     },
     "output_type": "display_data"
    }
   ],
   "source": [
    "#@mugrade.test_local\n",
    "@mugrade.submit(\"QlIuTCr8C4BPu7aXrk73\")\n",
    "def visualize_speeds(df, period, speed_bins):\n",
    "    \"\"\"Plot a heatmap of speeds, with x axis being the number of \n",
    "    \n",
    "    Args: \n",
    "        df (pd.DataFrame): A dataframe containing vehicle data\n",
    "        period (pd.PeriodIndex): A period index giving a list of time interval to plot, constructed\n",
    "                                 using the pd.period_range() function\n",
    "        speed_bins (list): A list of bins of speed values to bin within each time interval\n",
    "        \n",
    "    Returns: \n",
    "        (matplotlib.AxesImage): Result of plt.imshow() on the heatmap array\n",
    "    \"\"\"\n",
    "    period = period.strftime('%H:%M')\n",
    "    speeds = np.empty((len(speed_bins) - 1, len(period) - 1))\n",
    "    for i in range(0, len(period) - 1):\n",
    "        start = period[i]\n",
    "        end = period[i+1]\n",
    "        speed = get_speeds(df, start, end).dropna()\n",
    "        #print(np.histogram(speed))\n",
    "        #cut = speed.transform(lambda x: pd.cut(x, speed_bins, right=False)).dropna()\n",
    "        h, bins = np.histogram(speed, bins = speed_bins)\n",
    "        speeds[:, i] = h\n",
    "    #print(speeds)\n",
    "    plt.set_cmap('hot')\n",
    "    return plt.imshow(speeds)"
   ]
  },
  {
   "cell_type": "code",
   "execution_count": 38,
   "metadata": {},
   "outputs": [
    {
     "data": {
      "text/plain": [
       "(24, 95)"
      ]
     },
     "execution_count": 38,
     "metadata": {},
     "output_type": "execute_result"
    },
    {
     "name": "stderr",
     "output_type": "stream",
     "text": [
      "/Users/cheriehua/opt/anaconda3/lib/python3.8/site-packages/matplotlib/image.py:449: RuntimeWarning: overflow encountered in double_scalars\n",
      "  newmin = vmid - dv * fact\n",
      "/Users/cheriehua/opt/anaconda3/lib/python3.8/site-packages/matplotlib/image.py:454: RuntimeWarning: overflow encountered in double_scalars\n",
      "  newmax = vmid + dv * fact\n"
     ]
    },
    {
     "data": {
      "image/png": "[encoded data removed]",
      "text/plain": [
       "<Figure size 432x288 with 1 Axes>"
      ]
     },
     "metadata": {
      "needs_background": "light"
     },
     "output_type": "display_data"
    }
   ],
   "source": [
    "visualize_speeds(load_data(), pd.period_range(start='12:00am', end='11:59pm', freq=\"30T\"), list(range(0, 50, 2))).get_array().shape"
   ]
  },
  {
   "cell_type": "code",
   "execution_count": null,
   "metadata": {},
   "outputs": [],
   "source": [
    "period = period.strftime('%H:%M')\n",
    "    speeds = np.empty((len(period) - 1, 1))\n",
    "    for i in range(0, len(period) - 1):\n",
    "        start = period[i]\n",
    "        end = period[i+1]\n",
    "        speed = get_speeds(df, start, end)\n",
    "        cut = pd.cut(speed, speed_bins, right = False).to_numpy()\n",
    "        print(np.array(cut))\n",
    "        speeds[i] = np.array(cut)\n",
    "    print(speeds)\n",
    "    plt.set_cmap('hot')\n",
    "    plt.imshow()"
   ]
  },
  {
   "cell_type": "markdown",
   "metadata": {},
   "source": [
    "We can see a clear dip in speed from 15:00--18:00; that's the evening rush hour. The average speed improves as it gets later in the evening."
   ]
  },
  {
   "cell_type": "markdown",
   "metadata": {},
   "source": [
    "## Visualizing Bus Bunching\n",
    "\n",
    "That's interesting, but not exactly useful. Let's apply this to a real-world problem: [Bus Bunching](https://en.wikipedia.org/wiki/Bus_bunching), where buses on similar routes tend to clump together, reducing the tail performance of the travel network.\n",
    "\n",
    "Buses on the same route and direction have the same `pid` (pattern id) and their progress along the route is given by `pdist`.  We thus want to find the closest distance between two buses at the same time, on the same `pid`, but with different `vid` (this coresponds to the distance between two different buses on the same route ... the lower this quantity then the closer the buses are bunched).\n",
    "\n",
    "We'll do this by:\n",
    "1. Grouping the data by `pid`, 10-minute blocks, and then by the bus (i.e. `vid`) \n",
    "2. Calculating the average `pdist` value for each bus\n",
    "3. Computing the _smallest_ difference between `pdist` values for each different vehicle within a (`pid`, 10 min block) grouping.  Drop elements with only one vehicle within the grouping.\n",
    "\n",
    "We'll begin by doing the first three steps.\n",
    "\n",
    "Here are some tips and potential pitfalls:\n",
    "\n",
    "- Perform the grouping first by `pid`, then by time, and then by the bus `vid`. This can be done in a single call to `groupby`.\n",
    "- Look at `pandas.Grouper` to help you group by time\n",
    "- To perform step three, _regroup_ the data just by (`pid`, `tmstmp`) and then use `groupby().apply()` to compute the smallest difference in `pdists` within different vehicles in this group.  You can find the smalleest different between elements in an array by taking sorting the entries and taking the minimum difference value (to drop cases with only one vehicle, your `apply()` function can return NaN for theses cases, then subsequently drop NaN rows).\n",
    "- As indicated by the test case, after dropping all NaN values (groups with only ones bus for that `pid` in that time frame), you should have 7601 records.\n",
    "- This is overall a challenging problem, but the resulting code can be quite short (if written compactly).  For reference, our solution is 3 lines of (albeit somewhat dense) pandas code, and runs in about 5 seconds."
   ]
  },
  {
   "cell_type": "code",
   "execution_count": 135,
   "metadata": {},
   "outputs": [
    {
     "name": "stdout",
     "output_type": "stream",
     "text": [
      "### Submitting 2 grader tests\n",
      "# Running test 1/2 ... PASSED\n",
      "# Running test 2/2 ... PASSED\n"
     ]
    }
   ],
   "source": [
    "#@mugrade.test_local\n",
    "@mugrade.submit(\"QlIuTCr8C4BPu7aXrk73\")\n",
    "def closest_pdist(vdf):\n",
    "    \"\"\"calculate the mean pdist value \n",
    "    \n",
    "    params:\n",
    "        vdf : pd.Dataframe -- the loaded dataframe\n",
    "        \n",
    "    returns: pd.Series with indices:\n",
    "        - `pid`   : the pattern id\n",
    "        - `tmstmp`: the time, grouped to 10-minute blocks\n",
    "        and value equal to the minimum difference in pdist values for vehicles on this pid, at this time\n",
    "    \"\"\"\n",
    "    grouped = vdf.groupby(by = [\"pid\", pd.Grouper(level = 'tmstmp', freq = '10Min', origin = 'start_day'), \"vid\"]).mean()\n",
    "    mins = grouped.groupby(by = ['pid', pd.Grouper(level = 'tmstmp', freq = '10Min', origin = 'start_day')])\n",
    "    mins = mins.agg('pdist')\n",
    "    m = mins.apply(lambda x: x.sort_values().diff().min())\n",
    "    m = m.dropna()\n",
    "    return m"
   ]
  },
  {
   "cell_type": "markdown",
   "metadata": {},
   "source": [
    "Once you've completed this portion, you can visualize the bunching patterns in a few different ways.  This portion of the assignment isn't graded, as it follows rather immediately if you completed the previous portion, but it can be informative to view some of the time ways that bunching occurs along different routes.  Although they are relatively rare, particularly telling is the fact that there are several instance of two buses essentialy being in the exact same location (within ~100 feet of each other)."
   ]
  },
  {
   "cell_type": "code",
   "execution_count": 13,
   "metadata": {},
   "outputs": [
    {
     "data": {
      "text/plain": [
       "[<matplotlib.lines.Line2D at 0x7f9365ab0780>]"
      ]
     },
     "execution_count": 13,
     "metadata": {},
     "output_type": "execute_result"
    },
    {
     "data": {
      "image/png": "[encoded data removed]",
      "text/plain": [
       "<Figure size 432x288 with 1 Axes>"
      ]
     },
     "metadata": {
      "needs_background": "light"
     },
     "output_type": "display_data"
    }
   ],
   "source": [
    "plt.semilogy(closest_pdist(load_data()).loc[4522], 'bx')"
   ]
  },
  {
   "cell_type": "code",
   "execution_count": 12,
   "metadata": {},
   "outputs": [
    {
     "data": {
      "image/png": "[encoded data removed]",
      "text/plain": [
       "<Figure size 432x288 with 1 Axes>"
      ]
     },
     "metadata": {
      "needs_background": "light"
     },
     "output_type": "display_data"
    }
   ],
   "source": [
    "plt.xscale(\"log\")\n",
    "plt.hist(closest_pdist(load_data()).loc[4522], bins=np.logspace(0,5,30));"
   ]
  }
 ],
 "metadata": {
  "anaconda-cloud": {},
  "kernelspec": {
   "display_name": "Python 3",
   "language": "python",
   "name": "python3"
  },
  "language_info": {
   "codemirror_mode": {
    "name": "ipython",
    "version": 3
   },
   "file_extension": ".py",
   "mimetype": "text/x-python",
   "name": "python",
   "nbconvert_exporter": "python",
   "pygments_lexer": "ipython3",
   "version": "3.8.5"
  }
 },
 "nbformat": 4,
 "nbformat_minor": 1
}
